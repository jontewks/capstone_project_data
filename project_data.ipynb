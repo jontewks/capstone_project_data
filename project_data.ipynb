{
 "cells": [
  {
   "cell_type": "markdown",
   "id": "hydraulic-florist",
   "metadata": {},
   "source": [
    "### Datasets explored"
   ]
  },
  {
   "cell_type": "markdown",
   "id": "close-strike",
   "metadata": {},
   "source": [
    "#### 1\n",
    "The first dataset was `Huge Stock Market Dataset` found here: https://www.kaggle.com/borismarjanovic/price-volume-data-for-all-us-stocks-etfs\n",
    "\n",
    "This looked promising as it contained the information for all US based stocks and ETFs trading on the NYSE, NASDAQ, and NYSE MKT, but after inspecting the data in the dataset, I found it was last updated in November of 2017. This could still be a useful dataset of course, but if we can find a set that includes the most recent years as well I believe any resulting models would be more accurate."
   ]
  },
  {
   "cell_type": "markdown",
   "id": "placed-malaysia",
   "metadata": {},
   "source": [
    "#### 2\n",
    "The next dataset I came across after finding the first and then looking for something similar but including more recent data was `Stock Market Data (NASDAQ, NYSE, S&P500)` found here: https://www.kaggle.com/paultimothymooney/stock-market-data\n",
    "\n",
    "I noticed this was the same exchanges we are interested in getting the data for (minus the S&P500 which is just a compilation of stocks from the exchanges themselves) and the description of the dataset said it was updated weekly. This seemed to solve my original problem of wanting additional years of data, but upon inspecting the dataset it appears to be missing many funds that were available in the first.\n",
    "\n",
    "The first dataset had 8,539 total stocks & ETFs in it, but this second dataset had 3,022.\n",
    "\n",
    "Even worse than missing out on the most recent few years of information would be to exclude a majority of the stocks & ETFs entirely, so we continue our search."
   ]
  },
  {
   "cell_type": "markdown",
   "id": "mental-anderson",
   "metadata": {},
   "source": [
    "#### 3\n",
    "The final dataset I found, called `Stock Market Dataset` found here: https://www.kaggle.com/jacksoncrow/stock-market-dataset, looked to be very similar to the first one, this one having 8,049 unique ticker symbols, but was updated in April of 2020. \n",
    "\n",
    "As it is, this dataset appears to be the best, and is recent enough; however, I found in the description that the user that created it used a library called yfinance to get the data for each symbol. "
   ]
  },
  {
   "cell_type": "markdown",
   "id": "convertible-candy",
   "metadata": {},
   "source": [
    "### Plan\n",
    "I'm going to use the library mentioned (yfinance) to download all the most current stock data info so I can work with the latest data possible.\n",
    "\n",
    "Looking into yfinance, it takes a ticker symbol and a period you want data for, and will return a DataFrame with that info. First step is to get a list of all the ticker symbols traded, then feed those into yfinance to get all the historical data, and store that data in a csv."
   ]
  },
  {
   "cell_type": "markdown",
   "id": "variable-influence",
   "metadata": {},
   "source": [
    "#### Get list of stock symbols traded"
   ]
  },
  {
   "cell_type": "code",
   "execution_count": 1,
   "id": "intense-turtle",
   "metadata": {
    "scrolled": true
   },
   "outputs": [
    {
     "data": {
      "text/html": [
       "<div>\n",
       "<style scoped>\n",
       "    .dataframe tbody tr th:only-of-type {\n",
       "        vertical-align: middle;\n",
       "    }\n",
       "\n",
       "    .dataframe tbody tr th {\n",
       "        vertical-align: top;\n",
       "    }\n",
       "\n",
       "    .dataframe thead th {\n",
       "        text-align: right;\n",
       "    }\n",
       "</style>\n",
       "<table border=\"1\" class=\"dataframe\">\n",
       "  <thead>\n",
       "    <tr style=\"text-align: right;\">\n",
       "      <th></th>\n",
       "      <th>Nasdaq Traded</th>\n",
       "      <th>Symbol</th>\n",
       "      <th>Security Name</th>\n",
       "      <th>Listing Exchange</th>\n",
       "      <th>Market Category</th>\n",
       "      <th>ETF</th>\n",
       "      <th>Round Lot Size</th>\n",
       "      <th>Test Issue</th>\n",
       "      <th>Financial Status</th>\n",
       "      <th>CQS Symbol</th>\n",
       "      <th>NASDAQ Symbol</th>\n",
       "      <th>NextShares</th>\n",
       "    </tr>\n",
       "  </thead>\n",
       "  <tbody>\n",
       "    <tr>\n",
       "      <th>0</th>\n",
       "      <td>Y</td>\n",
       "      <td>A</td>\n",
       "      <td>Agilent Technologies, Inc. Common Stock</td>\n",
       "      <td>N</td>\n",
       "      <td></td>\n",
       "      <td>N</td>\n",
       "      <td>100.0</td>\n",
       "      <td>N</td>\n",
       "      <td>NaN</td>\n",
       "      <td>A</td>\n",
       "      <td>A</td>\n",
       "      <td>N</td>\n",
       "    </tr>\n",
       "    <tr>\n",
       "      <th>1</th>\n",
       "      <td>Y</td>\n",
       "      <td>AA</td>\n",
       "      <td>Alcoa Corporation Common Stock</td>\n",
       "      <td>N</td>\n",
       "      <td></td>\n",
       "      <td>N</td>\n",
       "      <td>100.0</td>\n",
       "      <td>N</td>\n",
       "      <td>NaN</td>\n",
       "      <td>AA</td>\n",
       "      <td>AA</td>\n",
       "      <td>N</td>\n",
       "    </tr>\n",
       "    <tr>\n",
       "      <th>2</th>\n",
       "      <td>Y</td>\n",
       "      <td>AAA</td>\n",
       "      <td>Listed Funds Trust AAF First Priority CLO Bond...</td>\n",
       "      <td>P</td>\n",
       "      <td></td>\n",
       "      <td>Y</td>\n",
       "      <td>100.0</td>\n",
       "      <td>N</td>\n",
       "      <td>NaN</td>\n",
       "      <td>AAA</td>\n",
       "      <td>AAA</td>\n",
       "      <td>N</td>\n",
       "    </tr>\n",
       "    <tr>\n",
       "      <th>3</th>\n",
       "      <td>Y</td>\n",
       "      <td>AAAU</td>\n",
       "      <td>Goldman Sachs Physical Gold ETF Shares</td>\n",
       "      <td>P</td>\n",
       "      <td></td>\n",
       "      <td>Y</td>\n",
       "      <td>100.0</td>\n",
       "      <td>N</td>\n",
       "      <td>NaN</td>\n",
       "      <td>AAAU</td>\n",
       "      <td>AAAU</td>\n",
       "      <td>N</td>\n",
       "    </tr>\n",
       "    <tr>\n",
       "      <th>4</th>\n",
       "      <td>Y</td>\n",
       "      <td>AAC.U</td>\n",
       "      <td>Ares Acquisition Corporation Units, each consi...</td>\n",
       "      <td>N</td>\n",
       "      <td></td>\n",
       "      <td>N</td>\n",
       "      <td>100.0</td>\n",
       "      <td>N</td>\n",
       "      <td>NaN</td>\n",
       "      <td>AAC.U</td>\n",
       "      <td>AAC=</td>\n",
       "      <td>N</td>\n",
       "    </tr>\n",
       "  </tbody>\n",
       "</table>\n",
       "</div>"
      ],
      "text/plain": [
       "  Nasdaq Traded Symbol                                      Security Name  \\\n",
       "0             Y      A            Agilent Technologies, Inc. Common Stock   \n",
       "1             Y     AA                    Alcoa Corporation Common Stock    \n",
       "2             Y    AAA  Listed Funds Trust AAF First Priority CLO Bond...   \n",
       "3             Y   AAAU             Goldman Sachs Physical Gold ETF Shares   \n",
       "4             Y  AAC.U  Ares Acquisition Corporation Units, each consi...   \n",
       "\n",
       "  Listing Exchange Market Category ETF  Round Lot Size Test Issue  \\\n",
       "0                N                   N           100.0          N   \n",
       "1                N                   N           100.0          N   \n",
       "2                P                   Y           100.0          N   \n",
       "3                P                   Y           100.0          N   \n",
       "4                N                   N           100.0          N   \n",
       "\n",
       "  Financial Status CQS Symbol NASDAQ Symbol NextShares  \n",
       "0              NaN          A             A          N  \n",
       "1              NaN         AA            AA          N  \n",
       "2              NaN        AAA           AAA          N  \n",
       "3              NaN       AAAU          AAAU          N  \n",
       "4              NaN      AAC.U          AAC=          N  "
      ]
     },
     "execution_count": 1,
     "metadata": {},
     "output_type": "execute_result"
    }
   ],
   "source": [
    "import pandas as pd\n",
    "\n",
    "data = pd.read_csv('http://www.nasdaqtrader.com/dynamic/SymDir/nasdaqtraded.txt', sep='|')\n",
    "data.head()"
   ]
  },
  {
   "cell_type": "markdown",
   "id": "pediatric-greece",
   "metadata": {},
   "source": [
    "Looking to what these fields mean, I found that `Test Issue`\n",
    "> Indicates whether the security is a test security.\n",
    "\n",
    "Since these are tests and not actual securities they can safely be ignored."
   ]
  },
  {
   "cell_type": "code",
   "execution_count": 2,
   "id": "ordinary-character",
   "metadata": {
    "scrolled": true
   },
   "outputs": [
    {
     "data": {
      "text/plain": [
       "N    9830\n",
       "Y      34\n",
       "Name: Test Issue, dtype: int64"
      ]
     },
     "execution_count": 2,
     "metadata": {},
     "output_type": "execute_result"
    }
   ],
   "source": [
    "data['Test Issue'].value_counts()"
   ]
  },
  {
   "cell_type": "code",
   "execution_count": 3,
   "id": "recognized-quarter",
   "metadata": {
    "scrolled": true
   },
   "outputs": [
    {
     "data": {
      "text/plain": [
       "9830"
      ]
     },
     "execution_count": 3,
     "metadata": {},
     "output_type": "execute_result"
    }
   ],
   "source": [
    "data = data[data['Test Issue'] == 'N']\n",
    "len(data)"
   ]
  },
  {
   "cell_type": "code",
   "execution_count": 4,
   "id": "educational-block",
   "metadata": {
    "scrolled": true
   },
   "outputs": [
    {
     "data": {
      "text/plain": [
       "['A', 'AA', 'AAA', 'AAAU', 'AAC.U']"
      ]
     },
     "execution_count": 4,
     "metadata": {},
     "output_type": "execute_result"
    }
   ],
   "source": [
    "stock_symbols = data['Symbol'].to_list()\n",
    "stock_symbols[:5]"
   ]
  },
  {
   "cell_type": "markdown",
   "id": "collective-subdivision",
   "metadata": {},
   "source": [
    "#### Get historical data for each symbol and store in CSV"
   ]
  },
  {
   "cell_type": "code",
   "execution_count": 9,
   "id": "brutal-liver",
   "metadata": {
    "scrolled": true
   },
   "outputs": [],
   "source": [
    "!mkdir tmp"
   ]
  },
  {
   "cell_type": "markdown",
   "id": "actual-commission",
   "metadata": {},
   "source": [
    "Although yfinance.dowload can take a string of many ticker symbols, I kept running into threading issues or JSONDecoding issues after waiting a long while and then needing to start over. I swiched to running one at a time in a for loop and then storing each result as its own CSV to make starting over from where it failed or left off easier by checking which CSVs are available and not running the yfinance request for those again."
   ]
  },
  {
   "cell_type": "code",
   "execution_count": 24,
   "id": "other-encounter",
   "metadata": {},
   "outputs": [],
   "source": [
    "import yfinance as yf\n",
    "import os\n",
    "\n",
    "tmp_dir = f'{os.getcwd()}/tmp'\n",
    "files_downloaded = os.listdir(tmp_dir)\n",
    "not_downloaded_yet = [symbol for symbol in stock_symbols if f'{symbol}.csv' not in files_downloaded]\n",
    "\n",
    "for symbol in not_downloaded_yet:\n",
    "    stock_data = yf.download(symbol, period='max')\n",
    "    stock_data.to_csv(f'tmp/{symbol}.csv')"
   ]
  },
  {
   "cell_type": "markdown",
   "id": "controlled-bulletin",
   "metadata": {},
   "source": [
    "Check how many individual files we ended up with vs the total symbols we attempted."
   ]
  },
  {
   "cell_type": "code",
   "execution_count": 21,
   "id": "vocal-hamburg",
   "metadata": {
    "scrolled": true
   },
   "outputs": [
    {
     "data": {
      "text/plain": [
       "9830"
      ]
     },
     "execution_count": 21,
     "metadata": {},
     "output_type": "execute_result"
    }
   ],
   "source": [
    "len(files_downloaded)"
   ]
  },
  {
   "cell_type": "markdown",
   "id": "loaded-antenna",
   "metadata": {},
   "source": [
    "Combine all CSVs into a single pandas DataFrame to export to a single CSV file."
   ]
  },
  {
   "cell_type": "code",
   "execution_count": 29,
   "id": "interested-toddler",
   "metadata": {},
   "outputs": [],
   "source": [
    "all_data_frames = []\n",
    "\n",
    "for file in files_downloaded:\n",
    "    data_frame = pd.read_csv(f'{tmp_dir}/{file}')\n",
    "    \n",
    "    # Add the symbol for each file to the dataframe since its being compiled into a single CSV\n",
    "    data_frame['Symbol'] = file.replace('.csv', '')\n",
    "    \n",
    "    all_data_frames.append(data_frame)\n",
    "    \n",
    "massive_data_frame = pd.concat(all_data_frames)\n",
    "massive_data_frame.to_csv(f'{os.getcwd()}/data.csv')"
   ]
  },
  {
   "cell_type": "markdown",
   "id": "alternative-insert",
   "metadata": {},
   "source": [
    "Remove the `/tmp` directory we used to store all the individual stock CSV files."
   ]
  },
  {
   "cell_type": "code",
   "execution_count": 30,
   "id": "invisible-phase",
   "metadata": {},
   "outputs": [],
   "source": [
    "!rm -rf tmp"
   ]
  }
 ],
 "metadata": {
  "kernelspec": {
   "display_name": "Python (ml)",
   "language": "python",
   "name": "ml"
  },
  "language_info": {
   "codemirror_mode": {
    "name": "ipython",
    "version": 3
   },
   "file_extension": ".py",
   "mimetype": "text/x-python",
   "name": "python",
   "nbconvert_exporter": "python",
   "pygments_lexer": "ipython3",
   "version": "3.9.1"
  }
 },
 "nbformat": 4,
 "nbformat_minor": 5
}
