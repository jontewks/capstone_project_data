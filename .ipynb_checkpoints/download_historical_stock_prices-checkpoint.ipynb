{
 "cells": [
  {
   "cell_type": "markdown",
   "id": "secondary-strand",
   "metadata": {},
   "source": [
    "Looking into yfinance, it takes a ticker symbol and a period you want data for, and will return a DataFrame with that info. First step is to get a list of all the ticker symbols traded, then feed those into yfinance to get all the historical data, and store that data in a csv."
   ]
  },
  {
   "cell_type": "markdown",
   "id": "recognized-impact",
   "metadata": {},
   "source": [
    "#### Get list of stock symbols traded"
   ]
  },
  {
   "cell_type": "code",
   "execution_count": 1,
   "id": "clear-mexican",
   "metadata": {
    "scrolled": true
   },
   "outputs": [
    {
     "data": {
      "text/html": [
       "<div>\n",
       "<style scoped>\n",
       "    .dataframe tbody tr th:only-of-type {\n",
       "        vertical-align: middle;\n",
       "    }\n",
       "\n",
       "    .dataframe tbody tr th {\n",
       "        vertical-align: top;\n",
       "    }\n",
       "\n",
       "    .dataframe thead th {\n",
       "        text-align: right;\n",
       "    }\n",
       "</style>\n",
       "<table border=\"1\" class=\"dataframe\">\n",
       "  <thead>\n",
       "    <tr style=\"text-align: right;\">\n",
       "      <th></th>\n",
       "      <th>Nasdaq Traded</th>\n",
       "      <th>Symbol</th>\n",
       "      <th>Security Name</th>\n",
       "      <th>Listing Exchange</th>\n",
       "      <th>Market Category</th>\n",
       "      <th>ETF</th>\n",
       "      <th>Round Lot Size</th>\n",
       "      <th>Test Issue</th>\n",
       "      <th>Financial Status</th>\n",
       "      <th>CQS Symbol</th>\n",
       "      <th>NASDAQ Symbol</th>\n",
       "      <th>NextShares</th>\n",
       "    </tr>\n",
       "  </thead>\n",
       "  <tbody>\n",
       "    <tr>\n",
       "      <th>0</th>\n",
       "      <td>Y</td>\n",
       "      <td>A</td>\n",
       "      <td>Agilent Technologies, Inc. Common Stock</td>\n",
       "      <td>N</td>\n",
       "      <td></td>\n",
       "      <td>N</td>\n",
       "      <td>100.0</td>\n",
       "      <td>N</td>\n",
       "      <td>NaN</td>\n",
       "      <td>A</td>\n",
       "      <td>A</td>\n",
       "      <td>N</td>\n",
       "    </tr>\n",
       "    <tr>\n",
       "      <th>1</th>\n",
       "      <td>Y</td>\n",
       "      <td>AA</td>\n",
       "      <td>Alcoa Corporation Common Stock</td>\n",
       "      <td>N</td>\n",
       "      <td></td>\n",
       "      <td>N</td>\n",
       "      <td>100.0</td>\n",
       "      <td>N</td>\n",
       "      <td>NaN</td>\n",
       "      <td>AA</td>\n",
       "      <td>AA</td>\n",
       "      <td>N</td>\n",
       "    </tr>\n",
       "    <tr>\n",
       "      <th>2</th>\n",
       "      <td>Y</td>\n",
       "      <td>AAA</td>\n",
       "      <td>Listed Funds Trust AAF First Priority CLO Bond...</td>\n",
       "      <td>P</td>\n",
       "      <td></td>\n",
       "      <td>Y</td>\n",
       "      <td>100.0</td>\n",
       "      <td>N</td>\n",
       "      <td>NaN</td>\n",
       "      <td>AAA</td>\n",
       "      <td>AAA</td>\n",
       "      <td>N</td>\n",
       "    </tr>\n",
       "    <tr>\n",
       "      <th>3</th>\n",
       "      <td>Y</td>\n",
       "      <td>AAAU</td>\n",
       "      <td>Goldman Sachs Physical Gold ETF Shares</td>\n",
       "      <td>P</td>\n",
       "      <td></td>\n",
       "      <td>Y</td>\n",
       "      <td>100.0</td>\n",
       "      <td>N</td>\n",
       "      <td>NaN</td>\n",
       "      <td>AAAU</td>\n",
       "      <td>AAAU</td>\n",
       "      <td>N</td>\n",
       "    </tr>\n",
       "    <tr>\n",
       "      <th>4</th>\n",
       "      <td>Y</td>\n",
       "      <td>AAC.U</td>\n",
       "      <td>Ares Acquisition Corporation Units, each consi...</td>\n",
       "      <td>N</td>\n",
       "      <td></td>\n",
       "      <td>N</td>\n",
       "      <td>100.0</td>\n",
       "      <td>N</td>\n",
       "      <td>NaN</td>\n",
       "      <td>AAC.U</td>\n",
       "      <td>AAC=</td>\n",
       "      <td>N</td>\n",
       "    </tr>\n",
       "  </tbody>\n",
       "</table>\n",
       "</div>"
      ],
      "text/plain": [
       "  Nasdaq Traded Symbol                                      Security Name  \\\n",
       "0             Y      A            Agilent Technologies, Inc. Common Stock   \n",
       "1             Y     AA                    Alcoa Corporation Common Stock    \n",
       "2             Y    AAA  Listed Funds Trust AAF First Priority CLO Bond...   \n",
       "3             Y   AAAU             Goldman Sachs Physical Gold ETF Shares   \n",
       "4             Y  AAC.U  Ares Acquisition Corporation Units, each consi...   \n",
       "\n",
       "  Listing Exchange Market Category ETF  Round Lot Size Test Issue  \\\n",
       "0                N                   N           100.0          N   \n",
       "1                N                   N           100.0          N   \n",
       "2                P                   Y           100.0          N   \n",
       "3                P                   Y           100.0          N   \n",
       "4                N                   N           100.0          N   \n",
       "\n",
       "  Financial Status CQS Symbol NASDAQ Symbol NextShares  \n",
       "0              NaN          A             A          N  \n",
       "1              NaN         AA            AA          N  \n",
       "2              NaN        AAA           AAA          N  \n",
       "3              NaN       AAAU          AAAU          N  \n",
       "4              NaN      AAC.U          AAC=          N  "
      ]
     },
     "execution_count": 1,
     "metadata": {},
     "output_type": "execute_result"
    }
   ],
   "source": [
    "import pandas as pd\n",
    "\n",
    "data = pd.read_csv('http://www.nasdaqtrader.com/dynamic/SymDir/nasdaqtraded.txt', sep='|')\n",
    "data.head()"
   ]
  },
  {
   "cell_type": "markdown",
   "id": "bigger-tournament",
   "metadata": {},
   "source": [
    "Store this file as metadata for future use if we need."
   ]
  },
  {
   "cell_type": "code",
   "execution_count": 2,
   "id": "former-monday",
   "metadata": {},
   "outputs": [],
   "source": [
    "data.to_csv('metadata.csv')"
   ]
  },
  {
   "cell_type": "markdown",
   "id": "super-administration",
   "metadata": {},
   "source": [
    "Looking to what these fields mean, I found that `Test Issue`\n",
    "> Indicates whether the security is a test security.\n",
    "\n",
    "Since these are tests and not actual securities they can safely be ignored."
   ]
  },
  {
   "cell_type": "code",
   "execution_count": 3,
   "id": "suited-contents",
   "metadata": {
    "scrolled": true
   },
   "outputs": [
    {
     "data": {
      "text/plain": [
       "N    9830\n",
       "Y      34\n",
       "Name: Test Issue, dtype: int64"
      ]
     },
     "execution_count": 3,
     "metadata": {},
     "output_type": "execute_result"
    }
   ],
   "source": [
    "data['Test Issue'].value_counts()"
   ]
  },
  {
   "cell_type": "code",
   "execution_count": 4,
   "id": "dimensional-attachment",
   "metadata": {
    "scrolled": true
   },
   "outputs": [
    {
     "data": {
      "text/plain": [
       "9830"
      ]
     },
     "execution_count": 4,
     "metadata": {},
     "output_type": "execute_result"
    }
   ],
   "source": [
    "data = data[data['Test Issue'] == 'N']\n",
    "len(data)"
   ]
  },
  {
   "cell_type": "code",
   "execution_count": 5,
   "id": "exposed-romance",
   "metadata": {
    "scrolled": true
   },
   "outputs": [
    {
     "data": {
      "text/plain": [
       "['A', 'AA', 'AAA', 'AAAU', 'AAC.U']"
      ]
     },
     "execution_count": 5,
     "metadata": {},
     "output_type": "execute_result"
    }
   ],
   "source": [
    "stock_symbols = data['Symbol'].to_list()\n",
    "stock_symbols[:5]"
   ]
  },
  {
   "cell_type": "markdown",
   "id": "determined-nomination",
   "metadata": {},
   "source": [
    "#### Get historical data for each symbol and store in CSV"
   ]
  },
  {
   "cell_type": "code",
   "execution_count": 6,
   "id": "aquatic-equity",
   "metadata": {
    "scrolled": true
   },
   "outputs": [],
   "source": [
    "!mkdir data"
   ]
  },
  {
   "cell_type": "markdown",
   "id": "monthly-warrant",
   "metadata": {},
   "source": [
    "Although yfinance.dowload can take a string of many ticker symbols, I kept running into threading issues or JSONDecoding issues after waiting a long while and then needing to start over. I swiched to running one at a time in a for loop and then storing each result as its own CSV to make starting over from where it failed or left off easier by checking which CSVs are available and not running the yfinance request for those again."
   ]
  },
  {
   "cell_type": "code",
   "execution_count": 7,
   "id": "coastal-mother",
   "metadata": {},
   "outputs": [],
   "source": [
    "import yfinance as yf\n",
    "import os\n",
    "\n",
    "data_dir = f'{os.getcwd()}/data'\n",
    "files_downloaded = os.listdir(data_dir)\n",
    "not_downloaded_yet = [symbol for symbol in stock_symbols if f'{symbol}.csv' not in files_downloaded]\n",
    "\n",
    "for symbol in not_downloaded_yet:\n",
    "    stock_data = yf.download(symbol, period='max')\n",
    "    stock_data.to_csv(f'data/{symbol}.csv')"
   ]
  },
  {
   "cell_type": "markdown",
   "id": "assumed-diagnosis",
   "metadata": {},
   "source": [
    "Check how many individual files we ended up with vs the total symbols we attempted."
   ]
  },
  {
   "cell_type": "code",
   "execution_count": 8,
   "id": "fluid-banana",
   "metadata": {
    "scrolled": true
   },
   "outputs": [
    {
     "data": {
      "text/plain": [
       "9830"
      ]
     },
     "execution_count": 8,
     "metadata": {},
     "output_type": "execute_result"
    }
   ],
   "source": [
    "len(files_downloaded)"
   ]
  }
 ],
 "metadata": {
  "kernelspec": {
   "display_name": "Python (ml)",
   "language": "python",
   "name": "ml"
  },
  "language_info": {
   "codemirror_mode": {
    "name": "ipython",
    "version": 3
   },
   "file_extension": ".py",
   "mimetype": "text/x-python",
   "name": "python",
   "nbconvert_exporter": "python",
   "pygments_lexer": "ipython3",
   "version": "3.9.1"
  }
 },
 "nbformat": 4,
 "nbformat_minor": 5
}
